{
 "cells": [
  {
   "cell_type": "code",
   "execution_count": 1,
   "metadata": {},
   "outputs": [],
   "source": [
    "from __future__ import print_function, division\n",
    "import pyigrf\n",
    "import numpy as np\n",
    "import datetime"
   ]
  },
  {
   "cell_type": "code",
   "execution_count": 2,
   "metadata": {},
   "outputs": [],
   "source": [
    "# Geodetic to Geocentric coordinates transformation\n",
    "# WGS84 constants\n",
    "# reference:\n",
    "# http://earth-info.nga.mil/GandG/publications/tr8350.2/wgs84fin.pdf\n",
    "a_WGS=6378.137\n",
    "flatness = 1./298.257223563  # flatenning\n",
    "b_WGS=a_WGS*(1.-flatness)    # WGS polar radius (semi-minor axis) in km\n",
    "eccentricity=np.sqrt(a_WGS**2-b_WGS**2)/a_WGS\n",
    "\n",
    "def geod2geoc(lon,geodlat,h):\n",
    "    # returns geocentric xyz coordinates (ECEF) in km of a target with\n",
    "    # latitude       geodlat (rad) --- geodetic\n",
    "    # longitude      lon (rad)\n",
    "    # height         h (km above local ellipsoid)\n",
    "    n=a_WGS / np.sqrt(1.-flatness*(2.-flatness) * np.sin(geodlat)**2.)\n",
    "    # cartesian geocentric coordinates wrt Greenwich\n",
    "    x=(n+h)*np.cos(geodlat)*np.cos(lon)\n",
    "    y=(n+h)*np.cos(geodlat)*np.sin(lon)\n",
    "    z=(n*(1.-eccentricity**2.)+h)*np.sin(geodlat)   \n",
    "    \n",
    "    p   = np.sqrt(x**2. + y**2.)\n",
    "    geoclat = np.arctan2(z,p)        # geocentric latitude (theta)\n",
    "    \n",
    "    return x,y,z,geoclat"
   ]
  },
  {
   "cell_type": "markdown",
   "metadata": {},
   "source": [
    "## B @ 100 km above PFISR on Feb 18, 2021:\n",
    "https://amisr.com/amisr/about/about_pfisr/pfisr-specs/\n",
    "\n",
    "Latitude, Longitude, Altitude: 65.12992 N, 147.47104 W, 213 m"
   ]
  },
  {
   "cell_type": "code",
   "execution_count": 3,
   "metadata": {},
   "outputs": [
    {
     "name": "stdout",
     "output_type": "stream",
     "text": [
      "geodetic coordinates: latitude:65.1299 deg, longitude:-147.471 deg, altitude:100 km\n",
      "geocentric coordinates: latitude:64.985 deg, longitude:-147.471 deg, IGRF altitude:89.3606 km\n",
      "B = 53957.2 nT: 11241.4 nT northwards, 3357.46 nT eastwards, 52666.3 nT downwards\n"
     ]
    }
   ],
   "source": [
    "def datetime2years(dt0):\n",
    "    daysinyear = (dt0 - datetime.datetime(dt0.year,1,1)).total_seconds()/24/3600\n",
    "    totaldaysinyear = datetime.datetime(dt0.year,12,31).timetuple().tm_yday\n",
    "    return dt0.year + daysinyear/totaldaysinyear\n",
    "\n",
    "geod_lat = 65.12992\n",
    "lon = -147.47104\n",
    "geod_ht = 100   #km above WGS-84 ellipsoide\n",
    "print(\"geodetic coordinates: latitude:%g deg, longitude:%g deg, altitude:%g km\"%(\n",
    "    geod_lat,lon,geod_ht))\n",
    "deg = 180/np.pi\n",
    "x,y,z,geoc_lat = geod2geoc(lon/deg, geod_lat/deg, geod_ht) # convert to geocentric\n",
    "ht_igrf = np.sqrt(x**2 + y**2 + z**2) - pyigrf.a_igrf # height above IGRF sphere with radius 6371.2 km\n",
    "dt0 = datetime.datetime(2021,2,18,12,12,12)\n",
    "year = datetime2years(dt0)\n",
    "\n",
    "print(\"geocentric coordinates: latitude:%g deg, longitude:%g deg, IGRF altitude:%g km\"%(\n",
    "    geoc_lat*deg,lon,ht_igrf))\n",
    "[Bn,Be,Bd,B] = pyigrf.igrf_B(year, ht_igrf, lon, geoc_lat*deg)\n",
    "print(\"B = %g nT: %g nT northwards, %g nT eastwards, %g nT downwards\"%(\n",
    "         B,Bn,Be,Bd))"
   ]
  },
  {
   "cell_type": "code",
   "execution_count": null,
   "metadata": {},
   "outputs": [],
   "source": []
  }
 ],
 "metadata": {
  "kernelspec": {
   "display_name": "python3.6_env",
   "language": "python",
   "name": "python3.6_env"
  },
  "language_info": {
   "codemirror_mode": {
    "name": "ipython",
    "version": 3
   },
   "file_extension": ".py",
   "mimetype": "text/x-python",
   "name": "python",
   "nbconvert_exporter": "python",
   "pygments_lexer": "ipython3",
   "version": "3.6.5"
  }
 },
 "nbformat": 4,
 "nbformat_minor": 4
}
